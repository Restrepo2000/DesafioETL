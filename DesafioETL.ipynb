{
  "nbformat": 4,
  "nbformat_minor": 0,
  "metadata": {
    "colab": {
      "provenance": [],
      "authorship_tag": "ABX9TyMSvoeYOvu9l1zr1c1roSMs",
      "include_colab_link": true
    },
    "kernelspec": {
      "name": "python3",
      "display_name": "Python 3"
    },
    "language_info": {
      "name": "python"
    }
  },
  "cells": [
    {
      "cell_type": "markdown",
      "metadata": {
        "id": "view-in-github",
        "colab_type": "text"
      },
      "source": [
        "<a href=\"https://colab.research.google.com/github/Restrepo2000/DesafioETL/blob/main/DesafioETL.ipynb\" target=\"_parent\"><img src=\"https://colab.research.google.com/assets/colab-badge.svg\" alt=\"Open In Colab\"/></a>"
      ]
    },
    {
      "cell_type": "markdown",
      "source": [
        "**Desafio Bootcamp Santader + DIO (ETL)**\n",
        "\n",
        "O desafio proposto era criar uma pipeline ETL e com isso foi realizado uma pipeline de uma loja onde os dos clientes que compraram mais de 10 produtos da loja iriam receber uma mensagem com um cupom de desconto de até 30% para próxima compra na loja."
      ],
      "metadata": {
        "id": "Ph6MTgqv4IWC"
      }
    },
    {
      "cell_type": "markdown",
      "source": [
        "**EXTRACT**\n",
        "\n",
        "Retirado dados de uma planilha CSV contendo os clientes e seus respectivos dados."
      ],
      "metadata": {
        "id": "o_UzwicuhYPe"
      }
    },
    {
      "cell_type": "code",
      "source": [
        "import pandas as pd\n",
        "\n",
        "df = pd.read_csv('/clientes.csv')\n",
        "user_ids = df['id'].tolist()\n",
        "\n",
        "print(user_ids)"
      ],
      "metadata": {
        "colab": {
          "base_uri": "https://localhost:8080/"
        },
        "id": "_Kyj0hga4PYh",
        "outputId": "499cd9cb-c4f8-46ef-b8ee-bf6b27a17303"
      },
      "execution_count": 14,
      "outputs": [
        {
          "output_type": "stream",
          "name": "stdout",
          "text": [
            "[1, 2, 3, 4, 5]\n"
          ]
        }
      ]
    },
    {
      "cell_type": "code",
      "source": [
        "import json\n",
        "\n",
        "users = []\n",
        "\n",
        "for id in user_ids:\n",
        "    user_details = df[df['id'] == id].to_dict(orient='records')[0]\n",
        "    users.append(user_details)\n",
        "\n",
        "print(json.dumps(users, indent=2))"
      ],
      "metadata": {
        "colab": {
          "base_uri": "https://localhost:8080/"
        },
        "id": "7E8FtTya51hN",
        "outputId": "90fd7cb5-92f4-4870-992e-a03934b63d3a"
      },
      "execution_count": 15,
      "outputs": [
        {
          "output_type": "stream",
          "name": "stdout",
          "text": [
            "[\n",
            "  {\n",
            "    \"id\": 1,\n",
            "    \"nome\": \"Joao\",\n",
            "    \"sobrenome\": \"Silva\",\n",
            "    \"idade\": 30,\n",
            "    \"email\": \"joao.silva@example.com\",\n",
            "    \"compras\": 8\n",
            "  },\n",
            "  {\n",
            "    \"id\": 2,\n",
            "    \"nome\": \"Maria\",\n",
            "    \"sobrenome\": \"Santos\",\n",
            "    \"idade\": 28,\n",
            "    \"email\": \"maria.santos@example.com\",\n",
            "    \"compras\": 15\n",
            "  },\n",
            "  {\n",
            "    \"id\": 3,\n",
            "    \"nome\": \"Carlos\",\n",
            "    \"sobrenome\": \"Almeida\",\n",
            "    \"idade\": 35,\n",
            "    \"email\": \"carlos.almeida@example.com\",\n",
            "    \"compras\": 11\n",
            "  },\n",
            "  {\n",
            "    \"id\": 4,\n",
            "    \"nome\": \"Ana\",\n",
            "    \"sobrenome\": \"Rocha\",\n",
            "    \"idade\": 22,\n",
            "    \"email\": \"ana.rocha@example.com\",\n",
            "    \"compras\": 14\n",
            "  },\n",
            "  {\n",
            "    \"id\": 5,\n",
            "    \"nome\": \"Pedro\",\n",
            "    \"sobrenome\": \"Alves\",\n",
            "    \"idade\": 40,\n",
            "    \"email\": \"pedro.alves@example.com\",\n",
            "    \"compras\": 7\n",
            "  }\n",
            "]\n"
          ]
        }
      ]
    },
    {
      "cell_type": "markdown",
      "source": [
        "**TRANSFORM**\n",
        "\n",
        "Através dos dados extraídos, foram separados clientes que compraram mais de 10 produtos da loja e enviado mensagens aos mesmos com cupons de desconto de até 30% em produtos da loja."
      ],
      "metadata": {
        "id": "Qr1pxSmf_d98"
      }
    },
    {
      "cell_type": "code",
      "source": [
        "import random\n",
        "import string\n",
        "\n",
        "df = pd.read_csv('clientes.csv')\n",
        "\n",
        "# Agrupa as compras por usuário e conta o número de compras\n",
        "compras_por_usuario = df.groupby('id')['compras'].sum()\n",
        "\n",
        "# Obtém os IDs dos usuários que fizeram mais de 10 compras\n",
        "usuarios_compras_mais_10 = compras_por_usuario[compras_por_usuario > 10].index\n",
        "\n",
        "# Gera um número de cupom aleatório\n",
        "cupons_desconto_mais_10 = {}\n",
        "for usuario_id in usuarios_compras_mais_10:\n",
        "    cupom_desconto = ''.join(random.choices(string.ascii_uppercase + string.digits, k=6))\n",
        "    cupons_desconto[usuario_id] = cupom_desconto\n",
        "\n",
        "\n",
        "# Imprime mensagem de cupom de desconto para esses usuários\n",
        "for usuario_id in usuarios_compras_mais_10:\n",
        "    usuario_detalhes = df[df['id'] == usuario_id].iloc[0]\n",
        "    cupom_desconto = cupons_desconto[usuario_id]\n",
        "    print(f\"Olá {usuario_detalhes['nome']} {usuario_detalhes['sobrenome']}, obrigado por ter feito mais de 10 compras conosco. Estamos te enviando o cupom {cupom_desconto} que lhe da até 30% de desconto em nossa loja!\")\n"
      ],
      "metadata": {
        "colab": {
          "base_uri": "https://localhost:8080/"
        },
        "id": "xcNVsGQS_j4E",
        "outputId": "1e6fed14-13bc-4f6b-fad2-88add8dd6d2c"
      },
      "execution_count": 14,
      "outputs": [
        {
          "output_type": "stream",
          "name": "stdout",
          "text": [
            "Olá Maria Santos, obrigado por ter feito mais de 10 compras conosco. Estamos te enviando o cupom SPA57N que lhe da até 30% de desconto em nossa loja!\n",
            "Olá Carlos Almeida, obrigado por ter feito mais de 10 compras conosco. Estamos te enviando o cupom 5H8PRI que lhe da até 30% de desconto em nossa loja!\n",
            "Olá Ana Rocha, obrigado por ter feito mais de 10 compras conosco. Estamos te enviando o cupom 842145 que lhe da até 30% de desconto em nossa loja!\n"
          ]
        }
      ]
    },
    {
      "cell_type": "markdown",
      "source": [
        "**LOAD**\n",
        "\n",
        "Foram carregados as informações dos cupons gerando um novo arquivo .CSV nomeado de cupons_mais_10.\n"
      ],
      "metadata": {
        "id": "jHAyZWWRgET7"
      }
    },
    {
      "cell_type": "code",
      "source": [
        "# Cria DataFrame com os cupons de desconto\n",
        "cupons_df_mais_10 = pd.DataFrame.from_dict(cupons_desconto_mais_10, orient='index', columns=['cupom_10'])\n",
        "\n",
        "# Salva o DataFrame em um arquivo CSV\n",
        "cupons_df_mais_10.to_csv('cupons_mais_10.csv')\n",
        "\n",
        "print(\"Dados de cupons de desconto carregados com sucesso!\")"
      ],
      "metadata": {
        "colab": {
          "base_uri": "https://localhost:8080/"
        },
        "id": "0RTuYdqWgFZ7",
        "outputId": "b622ed54-1d5f-48ba-848a-5ca906d46828"
      },
      "execution_count": 15,
      "outputs": [
        {
          "output_type": "stream",
          "name": "stdout",
          "text": [
            "Dados de cupons de desconto carregados com sucesso!\n"
          ]
        }
      ]
    }
  ]
}